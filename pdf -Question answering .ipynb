{
 "cells": [
  {
   "cell_type": "code",
   "execution_count": 20,
   "id": "745ce2b6",
   "metadata": {
    "height": 863
   },
   "outputs": [
    {
     "name": "stdout",
     "output_type": "stream",
     "text": [
      "Enter your query related to flynn's classification document:taxonamy\n",
      "Taxonomy is a classification system proposed by Michael J. Flynn in 1966. It is used to categorize computer architectures based on the number of instruction streams and data streams they can handle.\n"
     ]
    }
   ],
   "source": [
    "import os\n",
    "import openai\n",
    "from dotenv import load_dotenv, find_dotenv\n",
    "from langchain.document_loaders import PyPDFLoader\n",
    "from langchain.text_splitter import RecursiveCharacterTextSplitter\n",
    "from langchain.embeddings.openai import OpenAIEmbeddings\n",
    "from langchain.vectorstores import Chroma\n",
    "from langchain.schema import Document\n",
    "from langchain.chains import RetrievalQA\n",
    "from langchain.chat_models import ChatOpenAI\n",
    "\n",
    "_ = load_dotenv(find_dotenv())\n",
    "openai.api_key = os.environ['OPENAI_API_KEY']\n",
    "\n",
    "\n",
    "loader = PyPDFLoader(\"docs/Flynn's classification.pdf\")\n",
    "pages = loader.load()\n",
    "\n",
    "r_splitter = RecursiveCharacterTextSplitter(\n",
    "    chunk_size=150,\n",
    "    chunk_overlap=0,\n",
    "    separators=[\"\\n\\n\", \"\\n\", \"(?<=\\. )\", \" \", \"\"]\n",
    ")\n",
    "docs = r_splitter.split_documents(pages)\n",
    "\n",
    "embedding = OpenAIEmbeddings()\n",
    "persist_directory = 'docs/chroma/'\n",
    "metadata_docs = [Document(page_content=doc.page_content, metadata={\"source\": \"docs/Flynn's classification.pdf\"}) for doc in docs]\n",
    "vectordb = Chroma.from_documents(\n",
    "    documents=metadata_docs,\n",
    "    embedding=embedding,\n",
    "    persist_directory=persist_directory\n",
    ")\n",
    "\n",
    "\n",
    "vectordb.persist()\n",
    "\n",
    "\n",
    "query = input(\"Enter your query related to flynn's classification document:\")\n",
    "llm_name = 'gpt-3.5-turbo'  \n",
    "llm = ChatOpenAI(model_name=llm_name, temperature=0)\n",
    "qa_chain = RetrievalQA.from_chain_type(\n",
    "    llm,\n",
    "    retriever=vectordb.as_retriever()\n",
    ")\n",
    "result = qa_chain({\"query\": query})\n",
    "\n",
    "\n",
    "print(result[\"result\"])"
   ]
  }
 ],
 "metadata": {
  "kernelspec": {
   "display_name": "Python 3 (ipykernel)",
   "language": "python",
   "name": "python3"
  },
  "language_info": {
   "codemirror_mode": {
    "name": "ipython",
    "version": 3
   },
   "file_extension": ".py",
   "mimetype": "text/x-python",
   "name": "python",
   "nbconvert_exporter": "python",
   "pygments_lexer": "ipython3",
   "version": "3.9.19"
  }
 },
 "nbformat": 4,
 "nbformat_minor": 5
}
